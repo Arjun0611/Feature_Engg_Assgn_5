{
 "cells": [
  {
   "cell_type": "code",
   "execution_count": 30,
   "id": "6cafbbce-0643-4d58-a8a9-c759fb73c1bc",
   "metadata": {},
   "outputs": [],
   "source": [
    "# Q1.\n",
    "\n",
    "# Ordinal encoding is used when categorical values have a meaningful order, and you want to preserve that order.\n",
    "# Example: Education levels - \"High School\" (1), \"Undergraduate\"(2), \"Masters\" (3), \"PhD\"(4).\n",
    "\n",
    "# Label Encoding is used when categorical values have no inherent order, and we want to assign unique numeric labels.\n",
    "# Example: Colors - \"Red\" (1), \"Green\" (2), \"Blue\" (3).\n",
    "\n",
    "# Choose ordinal encoding for ordered categories and label encoding for unordered ones."
   ]
  },
  {
   "cell_type": "code",
   "execution_count": 29,
   "id": "6b36a8c1-aec3-4fa5-809c-04c52d61bc1b",
   "metadata": {},
   "outputs": [],
   "source": [
    "# Q2.\n",
    "\n",
    "# Target Guided Ordinal Encoding is a method to encode categorical variables by considering their relationship with the target variable:\n",
    "\n",
    "# Calculate the mean or median of the target variable for each category.\n",
    "# Order categories based on their means/medians.\n",
    "# Encode categories with higher means/medians with higher ordinal values.\n",
    "# This helps the model capture ordinal relationships between categories and the target.\n",
    "\n",
    "# Example: Ordering subscription types (Basic, Premium, Pro) based on churn rates for predicting customer churn."
   ]
  },
  {
   "cell_type": "code",
   "execution_count": 28,
   "id": "7ca747ee-53f2-4089-a4c0-abb3c93a91d1",
   "metadata": {},
   "outputs": [],
   "source": [
    "#Q3.\n",
    "\n",
    "# Covariance is a statistical measure that shows how two variables change together.\n",
    "# It's important in statistics for understanding relationships between variables and making predictions.\n",
    "# Covariance can be positive, negative, or zero, and it is used to calculate correlation.\n",
    "# It's calculated using a formula, but there are libraries like NumPy to do it easily."
   ]
  },
  {
   "cell_type": "code",
   "execution_count": 21,
   "id": "4b286336-0fea-49a8-abaf-5c7e67ce0cf9",
   "metadata": {},
   "outputs": [],
   "source": [
    "#Q4.\n",
    "\n",
    "from sklearn.preprocessing import LabelEncoder"
   ]
  },
  {
   "cell_type": "code",
   "execution_count": 23,
   "id": "7e162180-f7ca-4cd2-ad8f-3f463a8f52a7",
   "metadata": {},
   "outputs": [],
   "source": [
    "# Create a simple dataset\n",
    "\n",
    "data = {\n",
    "    'Color':['red', 'green', 'blue', 'red', 'blue'],\n",
    "    'Size':['small', 'medium', 'large', 'medium', 'small'],\n",
    "    'Material': ['wood', 'metal', 'plastic', 'wood', 'metal']\n",
    "}"
   ]
  },
  {
   "cell_type": "code",
   "execution_count": 24,
   "id": "7fd494f1-8234-4858-955e-25ab541ed321",
   "metadata": {},
   "outputs": [],
   "source": [
    "df = pd.DataFrame(data)"
   ]
  },
  {
   "cell_type": "code",
   "execution_count": 25,
   "id": "72ecf9b2-e56b-4800-81a5-6b60155797ed",
   "metadata": {},
   "outputs": [],
   "source": [
    "label_encoder_color = LabelEncoder()\n",
    "label_encoder_size = LabelEncoder()\n",
    "label_encoder_material = LabelEncoder()"
   ]
  },
  {
   "cell_type": "code",
   "execution_count": 26,
   "id": "9dfc8896-566d-4b51-9bc9-8fba29054f63",
   "metadata": {},
   "outputs": [],
   "source": [
    "df['Encoded_Color'] = label_encoder_color.fit_transform(df['Color'])\n",
    "df['Encoded_Size'] = label_encoder_size.fit_transform(df['Size'])\n",
    "df['Encoded_Material'] = label_encoder_material.fit_transform(df['Material'])"
   ]
  },
  {
   "cell_type": "code",
   "execution_count": 27,
   "id": "59a7cb4e-4e21-4b1a-b829-46c8e394e13e",
   "metadata": {},
   "outputs": [
    {
     "name": "stdout",
     "output_type": "stream",
     "text": [
      "   Color    Size Material  Encoded_Color  Encoded_Size  Encoded_Material\n",
      "0    red   small     wood              2             2                 2\n",
      "1  green  medium    metal              1             1                 0\n",
      "2   blue   large  plastic              0             0                 1\n",
      "3    red  medium     wood              2             1                 2\n",
      "4   blue   small    metal              0             2                 0\n"
     ]
    }
   ],
   "source": [
    "print(df)"
   ]
  },
  {
   "cell_type": "code",
   "execution_count": 3,
   "id": "07186cb8-9437-4de7-aea9-d3c4483b4bfb",
   "metadata": {},
   "outputs": [],
   "source": [
    "# Q5.\n",
    "import pandas as pd\n",
    "import numpy as np\n",
    "data = {\n",
    "    \n",
    "    'Age': [25, 42, 37, 19, 31, 28],\n",
    "    'Income': [50000, 65000, 56000, 20000, 53000, 51000], # Income data is described in dollars and it represents annual incomes.\n",
    "    'Education Level': [\"Undergraduate\", \"PhD\", \"PhD\", \"High School\", \"Masters\", \"Masters\"]\n",
    "\n",
    "\n",
    "}"
   ]
  },
  {
   "cell_type": "code",
   "execution_count": 4,
   "id": "15a7d8e8-a4da-4c42-8345-fd39fc36d3d6",
   "metadata": {},
   "outputs": [],
   "source": [
    "df = pd.DataFrame(data)"
   ]
  },
  {
   "cell_type": "code",
   "execution_count": 5,
   "id": "8338b5c7-eb5f-42cc-8b22-92132fbd4ef8",
   "metadata": {},
   "outputs": [],
   "source": [
    "from sklearn.preprocessing import OrdinalEncoder"
   ]
  },
  {
   "cell_type": "code",
   "execution_count": 6,
   "id": "548e75a8-b5df-419d-a8f8-0ff98f0e81cf",
   "metadata": {},
   "outputs": [],
   "source": [
    "encoder = OrdinalEncoder(categories=[[\"High School\", \"Undergraduate\", \"Masters\", \"PhD\"]])"
   ]
  },
  {
   "cell_type": "code",
   "execution_count": 8,
   "id": "4a383bce-a501-4e63-a51c-6e064bb1b82e",
   "metadata": {},
   "outputs": [],
   "source": [
    "encoded_education = pd.DataFrame(encoder.fit_transform(df[['Education Level']]), columns=['Encoded Education Level'])"
   ]
  },
  {
   "cell_type": "code",
   "execution_count": 9,
   "id": "f815ec74-a0d9-46d3-809a-77be07fb7d82",
   "metadata": {},
   "outputs": [],
   "source": [
    "result_df = pd.concat([df, encoded_education], axis=1)"
   ]
  },
  {
   "cell_type": "code",
   "execution_count": 16,
   "id": "c88c347b-e956-4f2e-ba63-6c6cbc7fc1ea",
   "metadata": {},
   "outputs": [],
   "source": [
    "result_df.drop(columns='Education Level', inplace=True)"
   ]
  },
  {
   "cell_type": "code",
   "execution_count": 17,
   "id": "0eb51392-eabf-419c-a276-cb487ced8267",
   "metadata": {},
   "outputs": [
    {
     "name": "stdout",
     "output_type": "stream",
     "text": [
      "   Age  Income  Encoded Education Level\n",
      "0   25   50000                      1.0\n",
      "1   42   65000                      3.0\n",
      "2   37   56000                      3.0\n",
      "3   19   20000                      0.0\n",
      "4   31   53000                      2.0\n",
      "5   28   51000                      2.0\n"
     ]
    }
   ],
   "source": [
    "print(result_df)"
   ]
  },
  {
   "cell_type": "code",
   "execution_count": 18,
   "id": "d517531a-d441-4395-a783-d7d02dde5937",
   "metadata": {},
   "outputs": [
    {
     "data": {
      "text/html": [
       "<div>\n",
       "<style scoped>\n",
       "    .dataframe tbody tr th:only-of-type {\n",
       "        vertical-align: middle;\n",
       "    }\n",
       "\n",
       "    .dataframe tbody tr th {\n",
       "        vertical-align: top;\n",
       "    }\n",
       "\n",
       "    .dataframe thead th {\n",
       "        text-align: right;\n",
       "    }\n",
       "</style>\n",
       "<table border=\"1\" class=\"dataframe\">\n",
       "  <thead>\n",
       "    <tr style=\"text-align: right;\">\n",
       "      <th></th>\n",
       "      <th>Age</th>\n",
       "      <th>Income</th>\n",
       "      <th>Encoded Education Level</th>\n",
       "    </tr>\n",
       "  </thead>\n",
       "  <tbody>\n",
       "    <tr>\n",
       "      <th>Age</th>\n",
       "      <td>68.666667</td>\n",
       "      <td>1.109333e+05</td>\n",
       "      <td>9.266667</td>\n",
       "    </tr>\n",
       "    <tr>\n",
       "      <th>Income</th>\n",
       "      <td>110933.333333</td>\n",
       "      <td>2.333667e+08</td>\n",
       "      <td>16033.333333</td>\n",
       "    </tr>\n",
       "    <tr>\n",
       "      <th>Encoded Education Level</th>\n",
       "      <td>9.266667</td>\n",
       "      <td>1.603333e+04</td>\n",
       "      <td>1.366667</td>\n",
       "    </tr>\n",
       "  </tbody>\n",
       "</table>\n",
       "</div>"
      ],
      "text/plain": [
       "                                   Age        Income  Encoded Education Level\n",
       "Age                          68.666667  1.109333e+05                 9.266667\n",
       "Income                   110933.333333  2.333667e+08             16033.333333\n",
       "Encoded Education Level       9.266667  1.603333e+04                 1.366667"
      ]
     },
     "execution_count": 18,
     "metadata": {},
     "output_type": "execute_result"
    }
   ],
   "source": [
    "result_df.cov()"
   ]
  },
  {
   "cell_type": "code",
   "execution_count": 20,
   "id": "1ffa08f1-6636-4839-9d49-7d85d8d3906d",
   "metadata": {},
   "outputs": [],
   "source": [
    "# Interpretation:\n",
    "\n",
    "# Since covariance b/w age and income is positive, it suggests that as age increases, income tends to increase, and vice versa.\n",
    "# Since covariance b/w age and education level is positive, it suggests that as age increases, education level tends to increase, and vice versa.\n",
    "# Since covariance b/w education level and income is positive, it suggests that as education level increases, income tends to increase, and vice versa."
   ]
  },
  {
   "cell_type": "code",
   "execution_count": 11,
   "id": "5e0cd264-1f39-4725-b2f0-f583172bfdc3",
   "metadata": {},
   "outputs": [],
   "source": [
    "#Q6.\n",
    "\n",
    "#1. \"Gender\" (Male/Female): One-Hot Encoding\n",
    "#Reason: Gender is a binary categorical variable, and one-hot encoding is suitable for representing such variables.\n",
    "\n",
    "# \"Education Level\" (High School/Bachelor's/Master's/PhD): Ordinal Encoding\n",
    "#Reason: Education level exhibits a clear ordinal relationship, as higher levels correspond to more advanced degrees. Ordinal encoding represents this hierarchy effectively.\n",
    "\n",
    "#\"Employment Status\" (Unemployed/Part-Time/Full-Time): Ordinal Encoding\n",
    "# Reason: Employment status also has an inherent ordinal relationship, with \"Unemployed\" < \"Part-Time\" < \"Full-Time.\" Ordinal encoding accurately captures this order."
   ]
  },
  {
   "cell_type": "code",
   "execution_count": 2,
   "id": "65698274-9185-41e5-8143-42c8c2c2f7d9",
   "metadata": {},
   "outputs": [],
   "source": [
    "# Q7.\n",
    "\n",
    "import numpy as np\n",
    "import pandas as pd"
   ]
  },
  {
   "cell_type": "code",
   "execution_count": 7,
   "id": "a11eba55-2a5c-48fa-92d2-51b40c19fcf8",
   "metadata": {},
   "outputs": [],
   "source": [
    "# Sample data\n",
    "\n",
    "data = {    \n",
    "    'temperature': [25, 27, 22, 24, 28, 26, 23, 25, 24, 26],\n",
    "    'humidity': [50, 55, 48, 52, 57, 53, 47, 49, 51, 54],\n",
    "    'weather_condition': [0, 1, 2, 0, 2, 1, 2, 0, 1, 1], # Assuming 0: Sunny, 1: Cloudy, 2: Rainy\n",
    "    'wind_direction': [3, 1, 0, 2, 3, 0, 1, 2, 3, 1]    # Assuming 0: North, 1: South, 2: East, 3: West\n",
    "}\n",
    "\n",
    "df = pd.DataFrame(data)"
   ]
  },
  {
   "cell_type": "code",
   "execution_count": 8,
   "id": "6df6a511-549f-4465-a40e-734a783ea011",
   "metadata": {},
   "outputs": [
    {
     "data": {
      "text/html": [
       "<div>\n",
       "<style scoped>\n",
       "    .dataframe tbody tr th:only-of-type {\n",
       "        vertical-align: middle;\n",
       "    }\n",
       "\n",
       "    .dataframe tbody tr th {\n",
       "        vertical-align: top;\n",
       "    }\n",
       "\n",
       "    .dataframe thead th {\n",
       "        text-align: right;\n",
       "    }\n",
       "</style>\n",
       "<table border=\"1\" class=\"dataframe\">\n",
       "  <thead>\n",
       "    <tr style=\"text-align: right;\">\n",
       "      <th></th>\n",
       "      <th>temperature</th>\n",
       "      <th>humidity</th>\n",
       "      <th>weather_condition</th>\n",
       "      <th>wind_direction</th>\n",
       "    </tr>\n",
       "  </thead>\n",
       "  <tbody>\n",
       "    <tr>\n",
       "      <th>temperature</th>\n",
       "      <td>3.333333</td>\n",
       "      <td>5.222222</td>\n",
       "      <td>-0.111111</td>\n",
       "      <td>0.555556</td>\n",
       "    </tr>\n",
       "    <tr>\n",
       "      <th>humidity</th>\n",
       "      <td>5.222222</td>\n",
       "      <td>10.266667</td>\n",
       "      <td>0.111111</td>\n",
       "      <td>0.711111</td>\n",
       "    </tr>\n",
       "    <tr>\n",
       "      <th>weather_condition</th>\n",
       "      <td>-0.111111</td>\n",
       "      <td>0.111111</td>\n",
       "      <td>0.666667</td>\n",
       "      <td>-0.333333</td>\n",
       "    </tr>\n",
       "    <tr>\n",
       "      <th>wind_direction</th>\n",
       "      <td>0.555556</td>\n",
       "      <td>0.711111</td>\n",
       "      <td>-0.333333</td>\n",
       "      <td>1.377778</td>\n",
       "    </tr>\n",
       "  </tbody>\n",
       "</table>\n",
       "</div>"
      ],
      "text/plain": [
       "                   temperature   humidity  weather_condition  wind_direction\n",
       "temperature           3.333333   5.222222          -0.111111        0.555556\n",
       "humidity              5.222222  10.266667           0.111111        0.711111\n",
       "weather_condition    -0.111111   0.111111           0.666667       -0.333333\n",
       "wind_direction        0.555556   0.711111          -0.333333        1.377778"
      ]
     },
     "execution_count": 8,
     "metadata": {},
     "output_type": "execute_result"
    }
   ],
   "source": [
    "df.cov()"
   ]
  },
  {
   "cell_type": "code",
   "execution_count": 9,
   "id": "e2060c9e-d931-4ee6-94a0-499e2c6007b0",
   "metadata": {},
   "outputs": [],
   "source": [
    "# Interpretation\n",
    "\n",
    "# Since covariance b/w temperature and humidity is positive, it suggests that as temperature increases, humidity tends to increase, and vice versa."
   ]
  },
  {
   "cell_type": "code",
   "execution_count": 10,
   "id": "d4f30723-0089-40bf-9dba-74a7f0e0d4bd",
   "metadata": {},
   "outputs": [],
   "source": [
    "# Covariance between temperature and weather condition as well as between temperature and wind direction may not be straightforward to interpret without additional context."
   ]
  },
  {
   "cell_type": "code",
   "execution_count": 31,
   "id": "5838ac3f-51c1-48c7-9d99-53733a7003a6",
   "metadata": {},
   "outputs": [],
   "source": [
    "# End"
   ]
  },
  {
   "cell_type": "code",
   "execution_count": null,
   "id": "2f73d3a8-0af4-4332-b210-ec3301025a65",
   "metadata": {},
   "outputs": [],
   "source": []
  }
 ],
 "metadata": {
  "kernelspec": {
   "display_name": "Python 3 (ipykernel)",
   "language": "python",
   "name": "python3"
  },
  "language_info": {
   "codemirror_mode": {
    "name": "ipython",
    "version": 3
   },
   "file_extension": ".py",
   "mimetype": "text/x-python",
   "name": "python",
   "nbconvert_exporter": "python",
   "pygments_lexer": "ipython3",
   "version": "3.10.8"
  }
 },
 "nbformat": 4,
 "nbformat_minor": 5
}
